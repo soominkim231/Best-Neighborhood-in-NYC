{
 "cells": [
  {
   "cell_type": "markdown",
   "metadata": {},
   "source": [
    "# Data\n",
    "## Data 1: New York City Neighborhood Data\n",
    "I will collect the New York City Neighborhoods Data from https://cocl.us/new_york_dataset. This data contains a total of 5 boroughs and 306 neighborhoods as well as the latitude and longitude coordinates of each neighborhood in New York City.\n",
    "\n",
    "## Data 2: Foursquare Location Data\n",
    "I will use the Foursquare API to get all the venues in neighborhoods of New York City. \n",
    "Then, I will filter venues to only show Korean restaurants for data visualization and analysis."
   ]
  },
  {
   "cell_type": "code",
   "execution_count": null,
   "metadata": {},
   "outputs": [],
   "source": []
  }
 ],
 "metadata": {
  "kernelspec": {
   "display_name": "Python 3",
   "language": "python",
   "name": "python3"
  },
  "language_info": {
   "codemirror_mode": {
    "name": "ipython",
    "version": 3
   },
   "file_extension": ".py",
   "mimetype": "text/x-python",
   "name": "python",
   "nbconvert_exporter": "python",
   "pygments_lexer": "ipython3",
   "version": "3.7.6"
  }
 },
 "nbformat": 4,
 "nbformat_minor": 4
}

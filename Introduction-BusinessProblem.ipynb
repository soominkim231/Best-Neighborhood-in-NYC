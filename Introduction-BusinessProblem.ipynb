{
 "cells": [
  {
   "cell_type": "markdown",
   "metadata": {},
   "source": [
    "# Introduction\n",
    "## 1.1 Problem Background\n",
    "New York City is the most populated city in the United States. It is also one of the most ethnically, linguistically, and culturally diverse cities in the world. About 36% of the city’s population are foreign-born, 800 languages are spoken in the city, and dozens of ethnic enclaves have developed throughout its neighborhoods - from Little Guyana, Koreatown, Little India, Little Odessa, Chinatown, Little Australia, Little Poland to Little Italy. \n",
    "\n",
    "More specifically, the City is home to more than 100,000 ethnic Koreans, which contributes to the New York metropolitan area containing the second-largest population of Koreans outside of Korea. Given a dense Korean population and growing interest in K-food business worldwide, there are ample opportunities to expand Korean restaurant businesses in New York City. This project aims to determine the best neighborhood in New York City to open a Korean restaurant. \n",
    "\n",
    "## 1.2 Target Audience\n",
    "This project will provide useful insight for anyone - entrepreneurs, business owners, investors - who are looking to start or expand their Korean restaurant business in New York City."
   ]
  },
  {
   "cell_type": "code",
   "execution_count": null,
   "metadata": {},
   "outputs": [],
   "source": []
  }
 ],
 "metadata": {
  "kernelspec": {
   "display_name": "Python 3",
   "language": "python",
   "name": "python3"
  },
  "language_info": {
   "codemirror_mode": {
    "name": "ipython",
    "version": 3
   },
   "file_extension": ".py",
   "mimetype": "text/x-python",
   "name": "python",
   "nbconvert_exporter": "python",
   "pygments_lexer": "ipython3",
   "version": "3.7.6"
  }
 },
 "nbformat": 4,
 "nbformat_minor": 4
}
